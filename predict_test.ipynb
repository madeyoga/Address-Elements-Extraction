{
 "cells": [
  {
   "cell_type": "code",
   "execution_count": 82,
   "metadata": {
    "executionInfo": {
     "elapsed": 616,
     "status": "ok",
     "timestamp": 1616244616213,
     "user": {
      "displayName": "MADE Y",
      "photoUrl": "https://lh3.googleusercontent.com/a-/AOh14GhuJEU3n96yBNmUJBnvqVW7_3nekYexAAC-Znb-=s64",
      "userId": "16278897297700979327"
     },
     "user_tz": -420
    },
    "id": "vbhF7CQ9q5Uk"
   },
   "outputs": [],
   "source": [
    "import pandas as pd\n",
    "from tqdm import tqdm\n",
    "import random\n",
    "import string\n",
    "import pickle\n",
    "import spacy\n",
    "from spacy.util import minibatch\n",
    "from spacy import displacy"
   ]
  },
  {
   "cell_type": "code",
   "execution_count": 83,
   "metadata": {
    "colab": {
     "base_uri": "https://localhost:8080/"
    },
    "executionInfo": {
     "elapsed": 1138,
     "status": "ok",
     "timestamp": 1616244618489,
     "user": {
      "displayName": "MADE Y",
      "photoUrl": "https://lh3.googleusercontent.com/a-/AOh14GhuJEU3n96yBNmUJBnvqVW7_3nekYexAAC-Znb-=s64",
      "userId": "16278897297700979327"
     },
     "user_tz": -420
    },
    "id": "GnIoZ6_2rMHH",
    "outputId": "9935464f-1998-464a-d4bf-a4a486c980eb"
   },
   "outputs": [
    {
     "name": "stdout",
     "output_type": "stream",
     "text": [
      "Drive already mounted at /content/drive; to attempt to forcibly remount, call drive.mount(\"/content/drive\", force_remount=True).\n",
      "[Errno 2] No such file or directory: 'drive/MyDrive/Work/Test spacy 2'\n",
      "/content/drive/MyDrive/Work/Test spacy 2\n"
     ]
    }
   ],
   "source": [
    "from google.colab import drive\n",
    "drive.mount('/content/drive')\n",
    "\n",
    "%cd \"drive/MyDrive/Work/Test spacy 2\""
   ]
  },
  {
   "cell_type": "code",
   "execution_count": 84,
   "metadata": {
    "colab": {
     "base_uri": "https://localhost:8080/",
     "height": 204
    },
    "executionInfo": {
     "elapsed": 954,
     "status": "ok",
     "timestamp": 1616244618489,
     "user": {
      "displayName": "MADE Y",
      "photoUrl": "https://lh3.googleusercontent.com/a-/AOh14GhuJEU3n96yBNmUJBnvqVW7_3nekYexAAC-Znb-=s64",
      "userId": "16278897297700979327"
     },
     "user_tz": -420
    },
    "id": "25hl-aIeq5Uo",
    "outputId": "3c95c01b-3eb0-4b25-c6b3-f3eb2fc81965"
   },
   "outputs": [
    {
     "data": {
      "text/html": [
       "<div>\n",
       "<style scoped>\n",
       "    .dataframe tbody tr th:only-of-type {\n",
       "        vertical-align: middle;\n",
       "    }\n",
       "\n",
       "    .dataframe tbody tr th {\n",
       "        vertical-align: top;\n",
       "    }\n",
       "\n",
       "    .dataframe thead th {\n",
       "        text-align: right;\n",
       "    }\n",
       "</style>\n",
       "<table border=\"1\" class=\"dataframe\">\n",
       "  <thead>\n",
       "    <tr style=\"text-align: right;\">\n",
       "      <th></th>\n",
       "      <th>id</th>\n",
       "      <th>raw_address</th>\n",
       "    </tr>\n",
       "  </thead>\n",
       "  <tbody>\n",
       "    <tr>\n",
       "      <th>0</th>\n",
       "      <td>0</td>\n",
       "      <td>s. par 53 sidanegara 4 cilacap tengah</td>\n",
       "    </tr>\n",
       "    <tr>\n",
       "      <th>1</th>\n",
       "      <td>1</td>\n",
       "      <td>angg per, baloi indah kel. lubuk baja</td>\n",
       "    </tr>\n",
       "    <tr>\n",
       "      <th>2</th>\n",
       "      <td>2</td>\n",
       "      <td>asma laun, mand imog,</td>\n",
       "    </tr>\n",
       "    <tr>\n",
       "      <th>3</th>\n",
       "      <td>3</td>\n",
       "      <td>ud agung rej, raya nga sri wedari karanganyar</td>\n",
       "    </tr>\n",
       "    <tr>\n",
       "      <th>4</th>\n",
       "      <td>4</td>\n",
       "      <td>cut mutia, 35 baiturrahman</td>\n",
       "    </tr>\n",
       "  </tbody>\n",
       "</table>\n",
       "</div>"
      ],
      "text/plain": [
       "   id                                    raw_address\n",
       "0   0          s. par 53 sidanegara 4 cilacap tengah\n",
       "1   1          angg per, baloi indah kel. lubuk baja\n",
       "2   2                          asma laun, mand imog,\n",
       "3   3  ud agung rej, raya nga sri wedari karanganyar\n",
       "4   4                     cut mutia, 35 baiturrahman"
      ]
     },
     "execution_count": 84,
     "metadata": {
      "tags": []
     },
     "output_type": "execute_result"
    }
   ],
   "source": [
    "test_df = pd.read_csv('test.csv')\n",
    "test_np = test_df.values\n",
    "test_df.head()"
   ]
  },
  {
   "cell_type": "markdown",
   "metadata": {
    "id": "JBqohQixq5Up"
   },
   "source": [
    "### preprocess function"
   ]
  },
  {
   "cell_type": "code",
   "execution_count": 85,
   "metadata": {
    "executionInfo": {
     "elapsed": 1120,
     "status": "ok",
     "timestamp": 1616244619754,
     "user": {
      "displayName": "MADE Y",
      "photoUrl": "https://lh3.googleusercontent.com/a-/AOh14GhuJEU3n96yBNmUJBnvqVW7_3nekYexAAC-Znb-=s64",
      "userId": "16278897297700979327"
     },
     "user_tz": -420
    },
    "id": "KWjzrq8Fq5Up"
   },
   "outputs": [],
   "source": [
    "def replace_coma(value):\n",
    "    return value.replace(', ', ' , ')"
   ]
  },
  {
   "cell_type": "markdown",
   "metadata": {
    "id": "W9hMIu_cq5Up"
   },
   "source": [
    "#### Preprocess coma"
   ]
  },
  {
   "cell_type": "code",
   "execution_count": 86,
   "metadata": {
    "executionInfo": {
     "elapsed": 808,
     "status": "ok",
     "timestamp": 1616244623067,
     "user": {
      "displayName": "MADE Y",
      "photoUrl": "https://lh3.googleusercontent.com/a-/AOh14GhuJEU3n96yBNmUJBnvqVW7_3nekYexAAC-Znb-=s64",
      "userId": "16278897297700979327"
     },
     "user_tz": -420
    },
    "id": "tWbZTcumq5Uq"
   },
   "outputs": [],
   "source": [
    "# test_df[\"raw_address\"] = test_df[\"raw_address\"].apply(replace_coma)"
   ]
  },
  {
   "cell_type": "markdown",
   "metadata": {
    "id": "ntoRcsZpq5Uq"
   },
   "source": [
    "### Load model"
   ]
  },
  {
   "cell_type": "code",
   "execution_count": 101,
   "metadata": {
    "executionInfo": {
     "elapsed": 3317,
     "status": "ok",
     "timestamp": 1616247117981,
     "user": {
      "displayName": "MADE Y",
      "photoUrl": "https://lh3.googleusercontent.com/a-/AOh14GhuJEU3n96yBNmUJBnvqVW7_3nekYexAAC-Znb-=s64",
      "userId": "16278897297700979327"
     },
     "user_tz": -420
    },
    "id": "LJaVa5sTq5Uq"
   },
   "outputs": [],
   "source": [
    "spacy.require_gpu(gpu_id=0)\n",
    "\n",
    "street_model_path = 'all_model-70/'\n",
    "nlp = spacy.load(street_model_path)"
   ]
  },
  {
   "cell_type": "markdown",
   "metadata": {
    "id": "mlxediWiq5Uq"
   },
   "source": [
    "### Test Predict"
   ]
  },
  {
   "cell_type": "code",
   "execution_count": 102,
   "metadata": {
    "colab": {
     "base_uri": "https://localhost:8080/",
     "height": 35
    },
    "executionInfo": {
     "elapsed": 982,
     "status": "ok",
     "timestamp": 1616247120334,
     "user": {
      "displayName": "MADE Y",
      "photoUrl": "https://lh3.googleusercontent.com/a-/AOh14GhuJEU3n96yBNmUJBnvqVW7_3nekYexAAC-Znb-=s64",
      "userId": "16278897297700979327"
     },
     "user_tz": -420
    },
    "id": "xhCv7plNq5Uq",
    "outputId": "f724bb3e-0426-4727-f22b-f3e67cd63753"
   },
   "outputs": [
    {
     "data": {
      "application/vnd.google.colaboratory.intrinsic+json": {
       "type": "string"
      },
      "text/plain": [
       "'s. par 53 sidanegara 4 cilacap tengah'"
      ]
     },
     "execution_count": 102,
     "metadata": {
      "tags": []
     },
     "output_type": "execute_result"
    }
   ],
   "source": [
    "sample = test_df.loc[0, \"raw_address\"]\n",
    "sample"
   ]
  },
  {
   "cell_type": "code",
   "execution_count": 103,
   "metadata": {
    "colab": {
     "base_uri": "https://localhost:8080/"
    },
    "executionInfo": {
     "elapsed": 908,
     "status": "ok",
     "timestamp": 1616247120712,
     "user": {
      "displayName": "MADE Y",
      "photoUrl": "https://lh3.googleusercontent.com/a-/AOh14GhuJEU3n96yBNmUJBnvqVW7_3nekYexAAC-Znb-=s64",
      "userId": "16278897297700979327"
     },
     "user_tz": -420
    },
    "id": "PeAv1BZPq5Ur",
    "outputId": "db760fe6-2ec0-4ed4-a165-61db035c8d83"
   },
   "outputs": [
    {
     "data": {
      "text/plain": [
       "(s. par,)"
      ]
     },
     "execution_count": 103,
     "metadata": {
      "tags": []
     },
     "output_type": "execute_result"
    }
   ],
   "source": [
    "doc = nlp(sample)\n",
    "# displacy.render(doc, style='ent')\n",
    "doc.ents"
   ]
  },
  {
   "cell_type": "code",
   "execution_count": 104,
   "metadata": {
    "colab": {
     "base_uri": "https://localhost:8080/"
    },
    "executionInfo": {
     "elapsed": 838,
     "status": "ok",
     "timestamp": 1616247121049,
     "user": {
      "displayName": "MADE Y",
      "photoUrl": "https://lh3.googleusercontent.com/a-/AOh14GhuJEU3n96yBNmUJBnvqVW7_3nekYexAAC-Znb-=s64",
      "userId": "16278897297700979327"
     },
     "user_tz": -420
    },
    "id": "gCmuPED7q5Ur",
    "outputId": "41aa1b64-c0ec-44a5-ca7a-8c86b45798b1"
   },
   "outputs": [
    {
     "data": {
      "text/plain": [
       "(s. par,)"
      ]
     },
     "execution_count": 104,
     "metadata": {
      "tags": []
     },
     "output_type": "execute_result"
    }
   ],
   "source": [
    "doc = nlp(sample)\n",
    "# displacy.render(doc, style='ent')\n",
    "doc.ents"
   ]
  },
  {
   "cell_type": "code",
   "execution_count": 105,
   "metadata": {
    "colab": {
     "base_uri": "https://localhost:8080/"
    },
    "executionInfo": {
     "elapsed": 852,
     "status": "ok",
     "timestamp": 1616247121400,
     "user": {
      "displayName": "MADE Y",
      "photoUrl": "https://lh3.googleusercontent.com/a-/AOh14GhuJEU3n96yBNmUJBnvqVW7_3nekYexAAC-Znb-=s64",
      "userId": "16278897297700979327"
     },
     "user_tz": -420
    },
    "id": "9vnukM88q5Ur",
    "outputId": "5b675490-2c6f-4ec3-b8ed-9e8e36728395"
   },
   "outputs": [
    {
     "data": {
      "text/plain": [
       "[('s. par', 'STREET')]"
      ]
     },
     "execution_count": 105,
     "metadata": {
      "tags": []
     },
     "output_type": "execute_result"
    }
   ],
   "source": [
    "[(ent.text, ent.label_) for ent in doc.ents]"
   ]
  },
  {
   "cell_type": "markdown",
   "metadata": {
    "id": "DhnFyA_Uq5Ur"
   },
   "source": [
    "### Generate submission"
   ]
  },
  {
   "cell_type": "code",
   "execution_count": 106,
   "metadata": {
    "colab": {
     "base_uri": "https://localhost:8080/"
    },
    "executionInfo": {
     "elapsed": 217161,
     "status": "ok",
     "timestamp": 1616247342352,
     "user": {
      "displayName": "MADE Y",
      "photoUrl": "https://lh3.googleusercontent.com/a-/AOh14GhuJEU3n96yBNmUJBnvqVW7_3nekYexAAC-Znb-=s64",
      "userId": "16278897297700979327"
     },
     "user_tz": -420
    },
    "id": "n-6M7oOyq5Us",
    "outputId": "e31d796f-3e7a-4491-a22a-dd36df400e6c"
   },
   "outputs": [
    {
     "name": "stderr",
     "output_type": "stream",
     "text": [
      "100%|██████████| 50000/50000 [03:36<00:00, 230.87it/s]\n"
     ]
    }
   ],
   "source": [
    "output = []\n",
    "for _id, address in tqdm(test_np):\n",
    "    doc = nlp(address)\n",
    "    poi = ''\n",
    "    street = ''\n",
    "\n",
    "    for ent in doc.ents:\n",
    "        label = ent.label_\n",
    "        if label == 'POI':\n",
    "            poi = ent.text\n",
    "        else:\n",
    "            street = ent.text\n",
    "\n",
    "    answer = \"{}/{}\".format(poi.strip(), street.strip())\n",
    "    output.append({'id': _id, 'POI/street': answer})"
   ]
  },
  {
   "cell_type": "code",
   "execution_count": 107,
   "metadata": {
    "executionInfo": {
     "elapsed": 781,
     "status": "ok",
     "timestamp": 1616247436900,
     "user": {
      "displayName": "MADE Y",
      "photoUrl": "https://lh3.googleusercontent.com/a-/AOh14GhuJEU3n96yBNmUJBnvqVW7_3nekYexAAC-Znb-=s64",
      "userId": "16278897297700979327"
     },
     "user_tz": -420
    },
    "id": "71VhkvHVq5Us"
   },
   "outputs": [],
   "source": [
    "output_df = pd.DataFrame(output)\n",
    "output_df.to_csv('sp2-70.csv', index=False)"
   ]
  },
  {
   "cell_type": "code",
   "execution_count": 33,
   "metadata": {
    "colab": {
     "base_uri": "https://localhost:8080/",
     "height": 204
    },
    "executionInfo": {
     "elapsed": 528,
     "status": "ok",
     "timestamp": 1616233885907,
     "user": {
      "displayName": "MADE Y",
      "photoUrl": "https://lh3.googleusercontent.com/a-/AOh14GhuJEU3n96yBNmUJBnvqVW7_3nekYexAAC-Znb-=s64",
      "userId": "16278897297700979327"
     },
     "user_tz": -420
    },
    "id": "28IxlRhWq5Us",
    "outputId": "676554de-6f68-48f0-b250-fa7be4fc75c1"
   },
   "outputs": [
    {
     "data": {
      "text/html": [
       "<div>\n",
       "<style scoped>\n",
       "    .dataframe tbody tr th:only-of-type {\n",
       "        vertical-align: middle;\n",
       "    }\n",
       "\n",
       "    .dataframe tbody tr th {\n",
       "        vertical-align: top;\n",
       "    }\n",
       "\n",
       "    .dataframe thead th {\n",
       "        text-align: right;\n",
       "    }\n",
       "</style>\n",
       "<table border=\"1\" class=\"dataframe\">\n",
       "  <thead>\n",
       "    <tr style=\"text-align: right;\">\n",
       "      <th></th>\n",
       "      <th>id</th>\n",
       "      <th>raw_address</th>\n",
       "    </tr>\n",
       "  </thead>\n",
       "  <tbody>\n",
       "    <tr>\n",
       "      <th>0</th>\n",
       "      <td>0</td>\n",
       "      <td>s. par 53 sidanegara 4 cilacap tengah</td>\n",
       "    </tr>\n",
       "    <tr>\n",
       "      <th>1</th>\n",
       "      <td>1</td>\n",
       "      <td>angg per, baloi indah kel. lubuk baja</td>\n",
       "    </tr>\n",
       "    <tr>\n",
       "      <th>2</th>\n",
       "      <td>2</td>\n",
       "      <td>asma laun, mand imog,</td>\n",
       "    </tr>\n",
       "    <tr>\n",
       "      <th>3</th>\n",
       "      <td>3</td>\n",
       "      <td>ud agung rej, raya nga sri wedari karanganyar</td>\n",
       "    </tr>\n",
       "    <tr>\n",
       "      <th>4</th>\n",
       "      <td>4</td>\n",
       "      <td>cut mutia, 35 baiturrahman</td>\n",
       "    </tr>\n",
       "  </tbody>\n",
       "</table>\n",
       "</div>"
      ],
      "text/plain": [
       "   id                                    raw_address\n",
       "0   0          s. par 53 sidanegara 4 cilacap tengah\n",
       "1   1          angg per, baloi indah kel. lubuk baja\n",
       "2   2                          asma laun, mand imog,\n",
       "3   3  ud agung rej, raya nga sri wedari karanganyar\n",
       "4   4                     cut mutia, 35 baiturrahman"
      ]
     },
     "execution_count": 33,
     "metadata": {
      "tags": []
     },
     "output_type": "execute_result"
    }
   ],
   "source": [
    "test_df.head()"
   ]
  },
  {
   "cell_type": "code",
   "execution_count": null,
   "metadata": {
    "id": "bh6A8qfSq5Us"
   },
   "outputs": [],
   "source": []
  }
 ],
 "metadata": {
  "accelerator": "GPU",
  "colab": {
   "name": "Copy of predict_test.ipynb",
   "provenance": []
  },
  "kernelspec": {
   "display_name": "Python 3",
   "language": "python",
   "name": "python3"
  },
  "language_info": {
   "codemirror_mode": {
    "name": "ipython",
    "version": 3
   },
   "file_extension": ".py",
   "mimetype": "text/x-python",
   "name": "python",
   "nbconvert_exporter": "python",
   "pygments_lexer": "ipython3",
   "version": "3.8.5"
  }
 },
 "nbformat": 4,
 "nbformat_minor": 1
}
