{
 "cells": [
  {
   "cell_type": "code",
   "execution_count": 1,
   "metadata": {
    "executionInfo": {
     "elapsed": 4103,
     "status": "ok",
     "timestamp": 1616232192858,
     "user": {
      "displayName": "MADE Y",
      "photoUrl": "https://lh3.googleusercontent.com/a-/AOh14GhuJEU3n96yBNmUJBnvqVW7_3nekYexAAC-Znb-=s64",
      "userId": "16278897297700979327"
     },
     "user_tz": -420
    },
    "id": "QHu6C-lmI77e"
   },
   "outputs": [],
   "source": [
    "import pandas as pd\n",
    "from tqdm.notebook import tqdm\n",
    "import random\n",
    "import string\n",
    "import pickle\n",
    "import spacy\n",
    "from spacy.util import minibatch\n",
    "from spacy import displacy"
   ]
  },
  {
   "cell_type": "code",
   "execution_count": 2,
   "metadata": {
    "executionInfo": {
     "elapsed": 2152,
     "status": "ok",
     "timestamp": 1616237779146,
     "user": {
      "displayName": "MADE Y",
      "photoUrl": "https://lh3.googleusercontent.com/a-/AOh14GhuJEU3n96yBNmUJBnvqVW7_3nekYexAAC-Znb-=s64",
      "userId": "16278897297700979327"
     },
     "user_tz": -420
    },
    "id": "_618MXLeQX1o"
   },
   "outputs": [],
   "source": [
    "with open(\"train_data_all.data\", \"rb\") as f:\n",
    "    TRAIN_DATA = pickle.load(f)"
   ]
  },
  {
   "cell_type": "code",
   "execution_count": 3,
   "metadata": {
    "colab": {
     "base_uri": "https://localhost:8080/"
    },
    "executionInfo": {
     "elapsed": 842,
     "status": "ok",
     "timestamp": 1616237780639,
     "user": {
      "displayName": "MADE Y",
      "photoUrl": "https://lh3.googleusercontent.com/a-/AOh14GhuJEU3n96yBNmUJBnvqVW7_3nekYexAAC-Znb-=s64",
      "userId": "16278897297700979327"
     },
     "user_tz": -420
    },
    "id": "eqx6YBa2TECX",
    "outputId": "cbff9ad4-a9d2-47ac-cef2-b8e54af2ba10"
   },
   "outputs": [
    {
     "data": {
      "text/plain": [
       "229414"
      ]
     },
     "execution_count": 3,
     "metadata": {},
     "output_type": "execute_result"
    }
   ],
   "source": [
    "len(TRAIN_DATA)"
   ]
  },
  {
   "cell_type": "code",
   "execution_count": 4,
   "metadata": {
    "colab": {
     "base_uri": "https://localhost:8080/"
    },
    "executionInfo": {
     "elapsed": 623,
     "status": "ok",
     "timestamp": 1616237781114,
     "user": {
      "displayName": "MADE Y",
      "photoUrl": "https://lh3.googleusercontent.com/a-/AOh14GhuJEU3n96yBNmUJBnvqVW7_3nekYexAAC-Znb-=s64",
      "userId": "16278897297700979327"
     },
     "user_tz": -420
    },
    "id": "tf_chxLE9-Jt",
    "outputId": "553b1afe-1da4-4e6a-e989-365c9c5e0020"
   },
   "outputs": [
    {
     "data": {
      "text/plain": [
       "(66634, 196645)"
      ]
     },
     "execution_count": 4,
     "metadata": {},
     "output_type": "execute_result"
    }
   ],
   "source": [
    "poi_counter = 0\n",
    "street_counter = 0\n",
    "for data in TRAIN_DATA:\n",
    "    for ent in data[1]['entities']:\n",
    "        if ent[2] == 'POI':\n",
    "            poi_counter += 1\n",
    "        else:\n",
    "            street_counter += 1\n",
    "poi_counter, street_counter"
   ]
  },
  {
   "cell_type": "markdown",
   "metadata": {
    "id": "2ln0AvdrXX-7"
   },
   "source": [
    "### Prepare Spacy nlp model for training & testing"
   ]
  },
  {
   "cell_type": "code",
   "execution_count": 6,
   "metadata": {
    "executionInfo": {
     "elapsed": 535,
     "status": "ok",
     "timestamp": 1616237783822,
     "user": {
      "displayName": "MADE Y",
      "photoUrl": "https://lh3.googleusercontent.com/a-/AOh14GhuJEU3n96yBNmUJBnvqVW7_3nekYexAAC-Znb-=s64",
      "userId": "16278897297700979327"
     },
     "user_tz": -420
    },
    "id": "CmBtsxsIQZoG"
   },
   "outputs": [],
   "source": [
    "def create_blank_nlp(train_data):\n",
    "    nlp = spacy.blank(\"en\")\n",
    "    ner = nlp.create_pipe(\"ner\")\n",
    "    nlp.add_pipe(ner, last=True)\n",
    "    ner = nlp.get_pipe(\"ner\")\n",
    "    for _, annotations in train_data:\n",
    "        for ent in annotations.get(\"entities\"):\n",
    "            ner.add_label(ent[2])\n",
    "    return nlp"
   ]
  },
  {
   "cell_type": "code",
   "execution_count": 7,
   "metadata": {
    "executionInfo": {
     "elapsed": 1368,
     "status": "ok",
     "timestamp": 1616237788731,
     "user": {
      "displayName": "MADE Y",
      "photoUrl": "https://lh3.googleusercontent.com/a-/AOh14GhuJEU3n96yBNmUJBnvqVW7_3nekYexAAC-Znb-=s64",
      "userId": "16278897297700979327"
     },
     "user_tz": -420
    },
    "id": "S0roW6EEgmDF"
   },
   "outputs": [],
   "source": [
    "import datetime as dt\n",
    "\n",
    "spacy.require_gpu(gpu_id=0)\n",
    "nlp = create_blank_nlp(TRAIN_DATA)\n",
    "# nlp = spacy.load(\"all_model-30/\")\n",
    "optimizer = nlp.begin_training()\n"
   ]
  },
  {
   "cell_type": "markdown",
   "metadata": {
    "id": "9UrrLq_-Q_BL"
   },
   "source": [
    "### Training loop"
   ]
  },
  {
   "cell_type": "code",
   "execution_count": 8,
   "metadata": {
    "id": "Xk0WfZSqINDA"
   },
   "outputs": [
    {
     "name": "stdout",
     "output_type": "stream",
     "text": [
      "Losses at iteration 0 - 2021-03-20 18:09:22.998696 {'ner': 188585.35436189623}\n",
      "Losses at iteration 1 - 2021-03-20 18:15:56.596208 {'ner': 130561.62866021511}\n",
      "Losses at iteration 2 - 2021-03-20 18:23:13.083325 {'ner': 114203.99882685066}\n",
      "Losses at iteration 3 - 2021-03-20 18:30:25.839592 {'ner': 103601.73642456869}\n",
      "Losses at iteration 4 - 2021-03-20 18:37:41.745370 {'ner': 97394.58751862573}\n",
      "Losses at iteration 5 - 2021-03-20 18:45:01.953504 {'ner': 92032.74301381983}\n",
      "Losses at iteration 6 - 2021-03-20 18:52:39.892582 {'ner': 88023.69195466167}\n",
      "Losses at iteration 7 - 2021-03-20 19:00:54.360072 {'ner': 84209.73984300713}\n",
      "Losses at iteration 8 - 2021-03-20 19:09:06.045027 {'ner': 80826.67344680104}\n",
      "Losses at iteration 9 - 2021-03-20 19:17:20.765953 {'ner': 78659.44173078664}\n"
     ]
    }
   ],
   "source": [
    "for i in range(10):\n",
    "    random.shuffle(TRAIN_DATA)\n",
    "    losses = {}\n",
    "    batches = minibatch(TRAIN_DATA, size=32)\n",
    "    for batch in batches:\n",
    "        texts, annotations = zip(*batch)\n",
    "        nlp.update(texts, annotations, sgd=optimizer, drop=0.4, losses=losses)\n",
    "    print(f\"Losses at iteration {i} - {dt.datetime.now()}\", losses)"
   ]
  },
  {
   "cell_type": "markdown",
   "metadata": {
    "id": "zVhOF6wGe-gX"
   },
   "source": [
    "### Save trained model"
   ]
  },
  {
   "cell_type": "code",
   "execution_count": 13,
   "metadata": {
    "executionInfo": {
     "elapsed": 829,
     "status": "ok",
     "timestamp": 1616237352704,
     "user": {
      "displayName": "MADE Y",
      "photoUrl": "https://lh3.googleusercontent.com/a-/AOh14GhuJEU3n96yBNmUJBnvqVW7_3nekYexAAC-Znb-=s64",
      "userId": "16278897297700979327"
     },
     "user_tz": -420
    },
    "id": "blD4oUMSXEMq"
   },
   "outputs": [],
   "source": [
    "output_dir = 'all_model-2-5'\n",
    "nlp.to_disk(output_dir)"
   ]
  },
  {
   "cell_type": "code",
   "execution_count": null,
   "metadata": {
    "id": "cZSUzI3nXETr"
   },
   "outputs": [],
   "source": []
  }
 ],
 "metadata": {
  "accelerator": "GPU",
  "colab": {
   "authorship_tag": "ABX9TyPgK864+CCPU9WoeUK8nxNI",
   "collapsed_sections": [],
   "name": "train all.ipynb",
   "provenance": []
  },
  "kernelspec": {
   "display_name": "Python 3",
   "language": "python",
   "name": "python3"
  },
  "language_info": {
   "codemirror_mode": {
    "name": "ipython",
    "version": 3
   },
   "file_extension": ".py",
   "mimetype": "text/x-python",
   "name": "python",
   "nbconvert_exporter": "python",
   "pygments_lexer": "ipython3",
   "version": "3.8.5"
  }
 },
 "nbformat": 4,
 "nbformat_minor": 1
}
