{
 "cells": [
  {
   "cell_type": "code",
   "execution_count": 1,
   "metadata": {},
   "outputs": [],
   "source": [
    "import numpy as np\n",
    "import pandas as pd\n",
    "from tqdm import tqdm\n",
    "import pickle\n",
    "import string\n",
    "import re"
   ]
  },
  {
   "cell_type": "code",
   "execution_count": 2,
   "metadata": {},
   "outputs": [
    {
     "data": {
      "text/html": [
       "<div>\n",
       "<style scoped>\n",
       "    .dataframe tbody tr th:only-of-type {\n",
       "        vertical-align: middle;\n",
       "    }\n",
       "\n",
       "    .dataframe tbody tr th {\n",
       "        vertical-align: top;\n",
       "    }\n",
       "\n",
       "    .dataframe thead th {\n",
       "        text-align: right;\n",
       "    }\n",
       "</style>\n",
       "<table border=\"1\" class=\"dataframe\">\n",
       "  <thead>\n",
       "    <tr style=\"text-align: right;\">\n",
       "      <th></th>\n",
       "      <th>id</th>\n",
       "      <th>raw_address</th>\n",
       "      <th>POI/street</th>\n",
       "    </tr>\n",
       "  </thead>\n",
       "  <tbody>\n",
       "    <tr>\n",
       "      <th>0</th>\n",
       "      <td>0</td>\n",
       "      <td>jl kapuk timur delta sili iii lippo cika 11 a ...</td>\n",
       "      <td>/jl kapuk timur delta sili iii lippo cika</td>\n",
       "    </tr>\n",
       "    <tr>\n",
       "      <th>1</th>\n",
       "      <td>1</td>\n",
       "      <td>aye, jati sampurna</td>\n",
       "      <td>/</td>\n",
       "    </tr>\n",
       "    <tr>\n",
       "      <th>2</th>\n",
       "      <td>2</td>\n",
       "      <td>setu siung 119 rt 5 1 13880 cipayung</td>\n",
       "      <td>/siung</td>\n",
       "    </tr>\n",
       "    <tr>\n",
       "      <th>3</th>\n",
       "      <td>3</td>\n",
       "      <td>toko dita, kertosono</td>\n",
       "      <td>toko dita/</td>\n",
       "    </tr>\n",
       "    <tr>\n",
       "      <th>4</th>\n",
       "      <td>4</td>\n",
       "      <td>jl. orde baru</td>\n",
       "      <td>/jl. orde baru</td>\n",
       "    </tr>\n",
       "  </tbody>\n",
       "</table>\n",
       "</div>"
      ],
      "text/plain": [
       "   id                                        raw_address  \\\n",
       "0   0  jl kapuk timur delta sili iii lippo cika 11 a ...   \n",
       "1   1                                 aye, jati sampurna   \n",
       "2   2               setu siung 119 rt 5 1 13880 cipayung   \n",
       "3   3                               toko dita, kertosono   \n",
       "4   4                                      jl. orde baru   \n",
       "\n",
       "                                  POI/street  \n",
       "0  /jl kapuk timur delta sili iii lippo cika  \n",
       "1                                          /  \n",
       "2                                     /siung  \n",
       "3                                 toko dita/  \n",
       "4                             /jl. orde baru  "
      ]
     },
     "execution_count": 2,
     "metadata": {},
     "output_type": "execute_result"
    }
   ],
   "source": [
    "df = pd.read_csv('train.csv')\n",
    "df.head()"
   ]
  },
  {
   "cell_type": "code",
   "execution_count": 3,
   "metadata": {},
   "outputs": [],
   "source": [
    "def replace_coma(value):\n",
    "    return value.replace(', ', ' , ')\n",
    "\n",
    "df[\"raw_address\"] = df[\"raw_address\"].apply(replace_coma)"
   ]
  },
  {
   "cell_type": "code",
   "execution_count": 4,
   "metadata": {},
   "outputs": [
    {
     "data": {
      "text/plain": [
       "('beng spesia ac mobil ac rio , ling sala,',\n",
       " 'bengkel spesialist ac mobil ac rio/ling sala')"
      ]
     },
     "execution_count": 4,
     "metadata": {},
     "output_type": "execute_result"
    }
   ],
   "source": [
    "df.loc[199].raw_address, df.loc[199][\"POI/street\"]"
   ]
  },
  {
   "cell_type": "code",
   "execution_count": 15,
   "metadata": {},
   "outputs": [],
   "source": [
    "def alignment_valid(raw, start_index, end_index):\n",
    "    if end_index < len(raw) - 1:\n",
    "        if raw[end_index + 1] != ' ':\n",
    "            return False\n",
    "\n",
    "    if start_index > 0:\n",
    "        if raw[start_index - 1] != ' ':\n",
    "            return False\n",
    "    \n",
    "    return True\n",
    "\n",
    "\n",
    "def fix_alignment(raw, value):\n",
    "    start_index = raw.find(value)\n",
    "    end_index = start_index + len(value)\n",
    "    if start_index > 0 and raw[start_index - 1] != \" \":\n",
    "        raw = raw[:start_index] + \" \" + raw[start_index:]\n",
    "    \n",
    "    if end_index < len(raw) - 1 and raw[end_index + 1] != \" \":\n",
    "        raw = raw[:end_index] + \" \" + raw[end_index:]\n",
    "    \n",
    "    return raw\n",
    "\n",
    "\n",
    "def words_overlap(slice1, slice2):\n",
    "    \"\"\"Take two strings representing slices (e.g. 'x:y') and\n",
    "    return a boolean indicating whether they overlap\"\"\"\n",
    "    \n",
    "    start_word_1, end_word_1 = slice1.split(':')\n",
    "    \n",
    "    start_word_2, end_word_2 = slice2.split(':')\n",
    "    \n",
    "    start_word_1 = int(start_word_1)\n",
    "    end_word_1 = int(end_word_1)\n",
    "    start_word_2 = int(start_word_2)\n",
    "    end_word_2 = int(end_word_2)\n",
    "    \n",
    "    if start_word_1 < start_word_2:  # slice1 is leftmost\n",
    "        return start_word_2 < end_word_1  # slice2 ends before slice1 starts\n",
    "    else:\n",
    "        return start_word_1 < end_word_2\n"
   ]
  },
  {
   "cell_type": "code",
   "execution_count": 28,
   "metadata": {},
   "outputs": [
    {
     "name": "stderr",
     "output_type": "stream",
     "text": [
      "100%|████████████████████████████████████████████| 300000/300000 [00:13<00:00, 22815.46it/s]\n"
     ]
    }
   ],
   "source": [
    "train_np = df.values\n",
    "train_data = []\n",
    "\n",
    "for row in tqdm(train_np):\n",
    "    raw_address = row[1]\n",
    "    poi, street = row[2].split('/')\n",
    "\n",
    "    temp_entities = []\n",
    "\n",
    "    if poi != '' and poi in raw_address:\n",
    "        try:\n",
    "            poi_indexes = [(m.start(0), m.end(0)) for m in re.finditer(\"\\\\b({})\\\\b\".format(poi), raw_address)]\n",
    "            for poi_start_index, poi_end_index in poi_indexes:\n",
    "                temp_entities.append((poi_start_index, poi_end_index, 'POI'))\n",
    "                break\n",
    "        except:\n",
    "            pass\n",
    "\n",
    "    if street != '' and street in raw_address:\n",
    "        try:\n",
    "            street_indexes = [(m.start(0), m.end(0)) for m in re.finditer(\"\\\\b({})\\\\b\".format(street), raw_address)]\n",
    "            for street_start_index, street_end_index in street_indexes:\n",
    "                \n",
    "                if temp_entities:\n",
    "                    slice1 = \"{}:{}\".format(temp_entities[0][0], temp_entities[0][1])\n",
    "                    slice2 = \"{}:{}\".format(street_start_index, street_end_index)\n",
    "                    \n",
    "                    if words_overlap(slice1, slice2):\n",
    "                        continue\n",
    "                \n",
    "                temp_entities.append((street_start_index, street_end_index, 'STREET'))\n",
    "                break\n",
    "        except:\n",
    "            pass\n",
    "\n",
    "    if temp_entities:\n",
    "        train_data.append((raw_address, {\"entities\": temp_entities}))"
   ]
  },
  {
   "cell_type": "code",
   "execution_count": 25,
   "metadata": {},
   "outputs": [
    {
     "data": {
      "text/plain": [
       "229414"
      ]
     },
     "execution_count": 25,
     "metadata": {},
     "output_type": "execute_result"
    }
   ],
   "source": [
    "len(train_data)"
   ]
  },
  {
   "cell_type": "code",
   "execution_count": 21,
   "metadata": {},
   "outputs": [
    {
     "data": {
      "text/html": [
       "<div>\n",
       "<style scoped>\n",
       "    .dataframe tbody tr th:only-of-type {\n",
       "        vertical-align: middle;\n",
       "    }\n",
       "\n",
       "    .dataframe tbody tr th {\n",
       "        vertical-align: top;\n",
       "    }\n",
       "\n",
       "    .dataframe thead th {\n",
       "        text-align: right;\n",
       "    }\n",
       "</style>\n",
       "<table border=\"1\" class=\"dataframe\">\n",
       "  <thead>\n",
       "    <tr style=\"text-align: right;\">\n",
       "      <th></th>\n",
       "      <th>id</th>\n",
       "      <th>raw_address</th>\n",
       "      <th>POI/street</th>\n",
       "    </tr>\n",
       "  </thead>\n",
       "  <tbody>\n",
       "    <tr>\n",
       "      <th>53150</th>\n",
       "      <td>53150</td>\n",
       "      <td>jl. duta harapan indah , kapuk muara , kec. pe...</td>\n",
       "      <td>duta harapan indah/jl. duta harapan indah</td>\n",
       "    </tr>\n",
       "  </tbody>\n",
       "</table>\n",
       "</div>"
      ],
      "text/plain": [
       "          id                                        raw_address  \\\n",
       "53150  53150  jl. duta harapan indah , kapuk muara , kec. pe...   \n",
       "\n",
       "                                      POI/street  \n",
       "53150  duta harapan indah/jl. duta harapan indah  "
      ]
     },
     "execution_count": 21,
     "metadata": {},
     "output_type": "execute_result"
    }
   ],
   "source": [
    "df[(df[\"raw_address\"] == 'jl. duta harapan indah , kapuk muara , kec. penjaringan , kota jkt utara , blok jj no. 69')]"
   ]
  },
  {
   "cell_type": "code",
   "execution_count": 22,
   "metadata": {},
   "outputs": [
    {
     "data": {
      "text/plain": [
       "[(23, 27)]"
      ]
     },
     "execution_count": 22,
     "metadata": {},
     "output_type": "execute_result"
    }
   ],
   "source": [
    "[(m.start(0), m.end(0)) for m in re.finditer(\"\\\\b(maha)\\\\b\", \"knalpot putra mahakam, maha 11 65111 klojen\")]"
   ]
  },
  {
   "cell_type": "markdown",
   "metadata": {},
   "source": [
    "## Check overlap"
   ]
  },
  {
   "cell_type": "code",
   "execution_count": 26,
   "metadata": {},
   "outputs": [
    {
     "name": "stderr",
     "output_type": "stream",
     "text": [
      "100%|██████████████████████████████████████████| 229414/229414 [00:00<00:00, 1622596.30it/s]\n"
     ]
    },
    {
     "data": {
      "text/plain": [
       "0"
      ]
     },
     "execution_count": 26,
     "metadata": {},
     "output_type": "execute_result"
    }
   ],
   "source": [
    "counter = 0\n",
    "for data in tqdm(train_data):\n",
    "    raw = data[0]\n",
    "    entities = data[1]['entities']\n",
    "    if len(entities) > 1:\n",
    "        slice1 = \"{}:{}\".format(entities[0][0], entities[0][1])\n",
    "        slice2 = \"{}:{}\".format(entities[1][0], entities[1][1])\n",
    "        if words_overlap(slice1, slice2):\n",
    "            print(entities)\n",
    "            print(slice1, slice2)\n",
    "            counter += 1\n",
    "counter"
   ]
  },
  {
   "cell_type": "code",
   "execution_count": null,
   "metadata": {},
   "outputs": [],
   "source": []
  },
  {
   "cell_type": "markdown",
   "metadata": {},
   "source": [
    "## Save train data"
   ]
  },
  {
   "cell_type": "code",
   "execution_count": 27,
   "metadata": {},
   "outputs": [],
   "source": [
    "with open(\"train_data_all-2.data\", \"wb+\") as fp:\n",
    "    pickle.dump(train_data, fp)"
   ]
  },
  {
   "cell_type": "code",
   "execution_count": null,
   "metadata": {},
   "outputs": [],
   "source": []
  }
 ],
 "metadata": {
  "kernelspec": {
   "display_name": "Python 3",
   "language": "python",
   "name": "python3"
  },
  "language_info": {
   "codemirror_mode": {
    "name": "ipython",
    "version": 3
   },
   "file_extension": ".py",
   "mimetype": "text/x-python",
   "name": "python",
   "nbconvert_exporter": "python",
   "pygments_lexer": "ipython3",
   "version": "3.8.5"
  }
 },
 "nbformat": 4,
 "nbformat_minor": 4
}
